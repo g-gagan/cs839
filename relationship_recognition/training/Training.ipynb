{
  "nbformat": 4,
  "nbformat_minor": 0,
  "metadata": {
    "colab": {
      "name": "Training.ipynb",
      "provenance": [],
      "collapsed_sections": []
    },
    "kernelspec": {
      "name": "python3",
      "display_name": "Python 3"
    },
    "language_info": {
      "name": "python"
    },
    "accelerator": "GPU"
  },
  "cells": [
    {
      "cell_type": "markdown",
      "source": [
        "## Data Loading"
      ],
      "metadata": {
        "id": "TQbEbvVBKB4W"
      }
    },
    {
      "cell_type": "code",
      "source": [
        "from google.colab import drive\n",
        "drive.mount('/content/gdrive')\n"
      ],
      "metadata": {
        "colab": {
          "base_uri": "https://localhost:8080/"
        },
        "id": "XVyKbyhHKDeD",
        "outputId": "3c74e313-3966-4179-e6eb-10203c974c07"
      },
      "execution_count": null,
      "outputs": [
        {
          "output_type": "stream",
          "name": "stdout",
          "text": [
            "Mounted at /content/gdrive\n"
          ]
        }
      ]
    },
    {
      "cell_type": "code",
      "source": [
        "cd gdrive/MyDrive/Study/CS839/Graph\\ from\\ image/Relationship/Results_relationship/dataset/"
      ],
      "metadata": {
        "colab": {
          "base_uri": "https://localhost:8080/"
        },
        "id": "Bct-dkOGKf1j",
        "outputId": "56d613a6-058f-4030-fea3-b707281be2c9"
      },
      "execution_count": null,
      "outputs": [
        {
          "output_type": "stream",
          "name": "stdout",
          "text": [
            "/content/gdrive/MyDrive/Study/CS839/Graph from image/Relationship/Results_relationship/dataset/image_level\n"
          ]
        }
      ]
    },
    {
      "cell_type": "code",
      "source": [
        ""
      ],
      "metadata": {
        "id": "q255VR_ofbXE"
      },
      "execution_count": null,
      "outputs": []
    },
    {
      "cell_type": "code",
      "source": [
        "import json\n",
        "import pandas as pd\n",
        "import spacy\n",
        "import numpy as np\n",
        "nlp = spacy.load('en_core_web_sm', disable=['parser', 'ner']) # just keep tagger for lemmatization\n"
      ],
      "metadata": {
        "id": "unCHLS1EKoe2"
      },
      "execution_count": null,
      "outputs": []
    },
    {
      "cell_type": "code",
      "source": [
        "data = pd.read_csv('data.csv')"
      ],
      "metadata": {
        "id": "Vw6laEtV29gL"
      },
      "execution_count": null,
      "outputs": []
    },
    {
      "cell_type": "code",
      "source": [
        "data"
      ],
      "metadata": {
        "colab": {
          "base_uri": "https://localhost:8080/",
          "height": 505
        },
        "id": "NXYbSWeIyRXa",
        "outputId": "7ecda369-9d28-487c-8291-77bd12bfb4ce"
      },
      "execution_count": null,
      "outputs": [
        {
          "output_type": "execute_result",
          "data": {
            "text/plain": [
              "        Unnamed: 0  Image Height  Image_Width subject_name  subject_x  \\\n",
              "0                0           600          800        shade      256.0   \n",
              "1                1           600          800          man      268.0   \n",
              "2                2           600          800          car      516.0   \n",
              "3                3           600          800         sign      162.0   \n",
              "4                4           600          800   tree trunk      665.5   \n",
              "...            ...           ...          ...          ...        ...   \n",
              "175086      175086           500          333         bird      265.5   \n",
              "175087      175087           500          333         bird      265.5   \n",
              "175088      175088           500          333         bird      139.0   \n",
              "175089      175089           500          333         tail      116.0   \n",
              "175090      175090           500          333         bird      265.5   \n",
              "\n",
              "        subject_y  subject_width  subject_height object_name  object_x  \\\n",
              "0           434.0            274             192    sidewalk     439.0   \n",
              "1           380.0             60             262        shoe     412.0   \n",
              "2           364.0             74              98   headlight     525.5   \n",
              "3           104.0             88             182    building     110.0   \n",
              "4           397.5             87             327    sidewalk     438.0   \n",
              "...           ...            ...             ...         ...       ...   \n",
              "175086      261.0             29             100      branch     264.0   \n",
              "175087      261.0             29             100        limb     255.5   \n",
              "175088      411.5             56              73      branch     239.5   \n",
              "175089      436.0             40              46      parrot     143.5   \n",
              "175090      261.0             29             100        tail     267.5   \n",
              "\n",
              "        object_y  object_width  object_height  Image_ID relationship  \n",
              "0          453.0           722            290         1           on  \n",
              "1          499.0            48             28         1         wear  \n",
              "2          373.5            23             15         1         have  \n",
              "3          270.0           218            536         1           on  \n",
              "4          464.0           722            266         1           on  \n",
              "...          ...           ...            ...       ...          ...  \n",
              "175086     266.5            20             31   2372684           on  \n",
              "175087     232.0           131            262   2372684           on  \n",
              "175088     228.0            25             88   2372684           on  \n",
              "175089     414.0            79            112   2372684           of  \n",
              "175090     289.0            15             30   2372684       have a  \n",
              "\n",
              "[951905 rows x 15 columns]"
            ],
            "text/html": [
              "\n",
              "  <div id=\"df-1024c39d-a626-4560-b7ac-1dbd293954d2\">\n",
              "    <div class=\"colab-df-container\">\n",
              "      <div>\n",
              "<style scoped>\n",
              "    .dataframe tbody tr th:only-of-type {\n",
              "        vertical-align: middle;\n",
              "    }\n",
              "\n",
              "    .dataframe tbody tr th {\n",
              "        vertical-align: top;\n",
              "    }\n",
              "\n",
              "    .dataframe thead th {\n",
              "        text-align: right;\n",
              "    }\n",
              "</style>\n",
              "<table border=\"1\" class=\"dataframe\">\n",
              "  <thead>\n",
              "    <tr style=\"text-align: right;\">\n",
              "      <th></th>\n",
              "      <th>Unnamed: 0</th>\n",
              "      <th>Image Height</th>\n",
              "      <th>Image_Width</th>\n",
              "      <th>subject_name</th>\n",
              "      <th>subject_x</th>\n",
              "      <th>subject_y</th>\n",
              "      <th>subject_width</th>\n",
              "      <th>subject_height</th>\n",
              "      <th>object_name</th>\n",
              "      <th>object_x</th>\n",
              "      <th>object_y</th>\n",
              "      <th>object_width</th>\n",
              "      <th>object_height</th>\n",
              "      <th>Image_ID</th>\n",
              "      <th>relationship</th>\n",
              "    </tr>\n",
              "  </thead>\n",
              "  <tbody>\n",
              "    <tr>\n",
              "      <th>0</th>\n",
              "      <td>0</td>\n",
              "      <td>600</td>\n",
              "      <td>800</td>\n",
              "      <td>shade</td>\n",
              "      <td>256.0</td>\n",
              "      <td>434.0</td>\n",
              "      <td>274</td>\n",
              "      <td>192</td>\n",
              "      <td>sidewalk</td>\n",
              "      <td>439.0</td>\n",
              "      <td>453.0</td>\n",
              "      <td>722</td>\n",
              "      <td>290</td>\n",
              "      <td>1</td>\n",
              "      <td>on</td>\n",
              "    </tr>\n",
              "    <tr>\n",
              "      <th>1</th>\n",
              "      <td>1</td>\n",
              "      <td>600</td>\n",
              "      <td>800</td>\n",
              "      <td>man</td>\n",
              "      <td>268.0</td>\n",
              "      <td>380.0</td>\n",
              "      <td>60</td>\n",
              "      <td>262</td>\n",
              "      <td>shoe</td>\n",
              "      <td>412.0</td>\n",
              "      <td>499.0</td>\n",
              "      <td>48</td>\n",
              "      <td>28</td>\n",
              "      <td>1</td>\n",
              "      <td>wear</td>\n",
              "    </tr>\n",
              "    <tr>\n",
              "      <th>2</th>\n",
              "      <td>2</td>\n",
              "      <td>600</td>\n",
              "      <td>800</td>\n",
              "      <td>car</td>\n",
              "      <td>516.0</td>\n",
              "      <td>364.0</td>\n",
              "      <td>74</td>\n",
              "      <td>98</td>\n",
              "      <td>headlight</td>\n",
              "      <td>525.5</td>\n",
              "      <td>373.5</td>\n",
              "      <td>23</td>\n",
              "      <td>15</td>\n",
              "      <td>1</td>\n",
              "      <td>have</td>\n",
              "    </tr>\n",
              "    <tr>\n",
              "      <th>3</th>\n",
              "      <td>3</td>\n",
              "      <td>600</td>\n",
              "      <td>800</td>\n",
              "      <td>sign</td>\n",
              "      <td>162.0</td>\n",
              "      <td>104.0</td>\n",
              "      <td>88</td>\n",
              "      <td>182</td>\n",
              "      <td>building</td>\n",
              "      <td>110.0</td>\n",
              "      <td>270.0</td>\n",
              "      <td>218</td>\n",
              "      <td>536</td>\n",
              "      <td>1</td>\n",
              "      <td>on</td>\n",
              "    </tr>\n",
              "    <tr>\n",
              "      <th>4</th>\n",
              "      <td>4</td>\n",
              "      <td>600</td>\n",
              "      <td>800</td>\n",
              "      <td>tree trunk</td>\n",
              "      <td>665.5</td>\n",
              "      <td>397.5</td>\n",
              "      <td>87</td>\n",
              "      <td>327</td>\n",
              "      <td>sidewalk</td>\n",
              "      <td>438.0</td>\n",
              "      <td>464.0</td>\n",
              "      <td>722</td>\n",
              "      <td>266</td>\n",
              "      <td>1</td>\n",
              "      <td>on</td>\n",
              "    </tr>\n",
              "    <tr>\n",
              "      <th>...</th>\n",
              "      <td>...</td>\n",
              "      <td>...</td>\n",
              "      <td>...</td>\n",
              "      <td>...</td>\n",
              "      <td>...</td>\n",
              "      <td>...</td>\n",
              "      <td>...</td>\n",
              "      <td>...</td>\n",
              "      <td>...</td>\n",
              "      <td>...</td>\n",
              "      <td>...</td>\n",
              "      <td>...</td>\n",
              "      <td>...</td>\n",
              "      <td>...</td>\n",
              "      <td>...</td>\n",
              "    </tr>\n",
              "    <tr>\n",
              "      <th>175086</th>\n",
              "      <td>175086</td>\n",
              "      <td>500</td>\n",
              "      <td>333</td>\n",
              "      <td>bird</td>\n",
              "      <td>265.5</td>\n",
              "      <td>261.0</td>\n",
              "      <td>29</td>\n",
              "      <td>100</td>\n",
              "      <td>branch</td>\n",
              "      <td>264.0</td>\n",
              "      <td>266.5</td>\n",
              "      <td>20</td>\n",
              "      <td>31</td>\n",
              "      <td>2372684</td>\n",
              "      <td>on</td>\n",
              "    </tr>\n",
              "    <tr>\n",
              "      <th>175087</th>\n",
              "      <td>175087</td>\n",
              "      <td>500</td>\n",
              "      <td>333</td>\n",
              "      <td>bird</td>\n",
              "      <td>265.5</td>\n",
              "      <td>261.0</td>\n",
              "      <td>29</td>\n",
              "      <td>100</td>\n",
              "      <td>limb</td>\n",
              "      <td>255.5</td>\n",
              "      <td>232.0</td>\n",
              "      <td>131</td>\n",
              "      <td>262</td>\n",
              "      <td>2372684</td>\n",
              "      <td>on</td>\n",
              "    </tr>\n",
              "    <tr>\n",
              "      <th>175088</th>\n",
              "      <td>175088</td>\n",
              "      <td>500</td>\n",
              "      <td>333</td>\n",
              "      <td>bird</td>\n",
              "      <td>139.0</td>\n",
              "      <td>411.5</td>\n",
              "      <td>56</td>\n",
              "      <td>73</td>\n",
              "      <td>branch</td>\n",
              "      <td>239.5</td>\n",
              "      <td>228.0</td>\n",
              "      <td>25</td>\n",
              "      <td>88</td>\n",
              "      <td>2372684</td>\n",
              "      <td>on</td>\n",
              "    </tr>\n",
              "    <tr>\n",
              "      <th>175089</th>\n",
              "      <td>175089</td>\n",
              "      <td>500</td>\n",
              "      <td>333</td>\n",
              "      <td>tail</td>\n",
              "      <td>116.0</td>\n",
              "      <td>436.0</td>\n",
              "      <td>40</td>\n",
              "      <td>46</td>\n",
              "      <td>parrot</td>\n",
              "      <td>143.5</td>\n",
              "      <td>414.0</td>\n",
              "      <td>79</td>\n",
              "      <td>112</td>\n",
              "      <td>2372684</td>\n",
              "      <td>of</td>\n",
              "    </tr>\n",
              "    <tr>\n",
              "      <th>175090</th>\n",
              "      <td>175090</td>\n",
              "      <td>500</td>\n",
              "      <td>333</td>\n",
              "      <td>bird</td>\n",
              "      <td>265.5</td>\n",
              "      <td>261.0</td>\n",
              "      <td>29</td>\n",
              "      <td>100</td>\n",
              "      <td>tail</td>\n",
              "      <td>267.5</td>\n",
              "      <td>289.0</td>\n",
              "      <td>15</td>\n",
              "      <td>30</td>\n",
              "      <td>2372684</td>\n",
              "      <td>have a</td>\n",
              "    </tr>\n",
              "  </tbody>\n",
              "</table>\n",
              "<p>951905 rows × 15 columns</p>\n",
              "</div>\n",
              "      <button class=\"colab-df-convert\" onclick=\"convertToInteractive('df-1024c39d-a626-4560-b7ac-1dbd293954d2')\"\n",
              "              title=\"Convert this dataframe to an interactive table.\"\n",
              "              style=\"display:none;\">\n",
              "        \n",
              "  <svg xmlns=\"http://www.w3.org/2000/svg\" height=\"24px\"viewBox=\"0 0 24 24\"\n",
              "       width=\"24px\">\n",
              "    <path d=\"M0 0h24v24H0V0z\" fill=\"none\"/>\n",
              "    <path d=\"M18.56 5.44l.94 2.06.94-2.06 2.06-.94-2.06-.94-.94-2.06-.94 2.06-2.06.94zm-11 1L8.5 8.5l.94-2.06 2.06-.94-2.06-.94L8.5 2.5l-.94 2.06-2.06.94zm10 10l.94 2.06.94-2.06 2.06-.94-2.06-.94-.94-2.06-.94 2.06-2.06.94z\"/><path d=\"M17.41 7.96l-1.37-1.37c-.4-.4-.92-.59-1.43-.59-.52 0-1.04.2-1.43.59L10.3 9.45l-7.72 7.72c-.78.78-.78 2.05 0 2.83L4 21.41c.39.39.9.59 1.41.59.51 0 1.02-.2 1.41-.59l7.78-7.78 2.81-2.81c.8-.78.8-2.07 0-2.86zM5.41 20L4 18.59l7.72-7.72 1.47 1.35L5.41 20z\"/>\n",
              "  </svg>\n",
              "      </button>\n",
              "      \n",
              "  <style>\n",
              "    .colab-df-container {\n",
              "      display:flex;\n",
              "      flex-wrap:wrap;\n",
              "      gap: 12px;\n",
              "    }\n",
              "\n",
              "    .colab-df-convert {\n",
              "      background-color: #E8F0FE;\n",
              "      border: none;\n",
              "      border-radius: 50%;\n",
              "      cursor: pointer;\n",
              "      display: none;\n",
              "      fill: #1967D2;\n",
              "      height: 32px;\n",
              "      padding: 0 0 0 0;\n",
              "      width: 32px;\n",
              "    }\n",
              "\n",
              "    .colab-df-convert:hover {\n",
              "      background-color: #E2EBFA;\n",
              "      box-shadow: 0px 1px 2px rgba(60, 64, 67, 0.3), 0px 1px 3px 1px rgba(60, 64, 67, 0.15);\n",
              "      fill: #174EA6;\n",
              "    }\n",
              "\n",
              "    [theme=dark] .colab-df-convert {\n",
              "      background-color: #3B4455;\n",
              "      fill: #D2E3FC;\n",
              "    }\n",
              "\n",
              "    [theme=dark] .colab-df-convert:hover {\n",
              "      background-color: #434B5C;\n",
              "      box-shadow: 0px 1px 3px 1px rgba(0, 0, 0, 0.15);\n",
              "      filter: drop-shadow(0px 1px 2px rgba(0, 0, 0, 0.3));\n",
              "      fill: #FFFFFF;\n",
              "    }\n",
              "  </style>\n",
              "\n",
              "      <script>\n",
              "        const buttonEl =\n",
              "          document.querySelector('#df-1024c39d-a626-4560-b7ac-1dbd293954d2 button.colab-df-convert');\n",
              "        buttonEl.style.display =\n",
              "          google.colab.kernel.accessAllowed ? 'block' : 'none';\n",
              "\n",
              "        async function convertToInteractive(key) {\n",
              "          const element = document.querySelector('#df-1024c39d-a626-4560-b7ac-1dbd293954d2');\n",
              "          const dataTable =\n",
              "            await google.colab.kernel.invokeFunction('convertToInteractive',\n",
              "                                                     [key], {});\n",
              "          if (!dataTable) return;\n",
              "\n",
              "          const docLinkHtml = 'Like what you see? Visit the ' +\n",
              "            '<a target=\"_blank\" href=https://colab.research.google.com/notebooks/data_table.ipynb>data table notebook</a>'\n",
              "            + ' to learn more about interactive tables.';\n",
              "          element.innerHTML = '';\n",
              "          dataTable['output_type'] = 'display_data';\n",
              "          await google.colab.output.renderOutput(dataTable, element);\n",
              "          const docLink = document.createElement('div');\n",
              "          docLink.innerHTML = docLinkHtml;\n",
              "          element.appendChild(docLink);\n",
              "        }\n",
              "      </script>\n",
              "    </div>\n",
              "  </div>\n",
              "  "
            ]
          },
          "metadata": {},
          "execution_count": 57
        }
      ]
    },
    {
      "cell_type": "markdown",
      "source": [
        "## Data Preprocessing"
      ],
      "metadata": {
        "id": "Z33Z-eUIpNVl"
      }
    },
    {
      "cell_type": "code",
      "source": [
        "#Replace similar predicates\n",
        "\n",
        "synonyms = {\n",
        "    'on': ['be on', 'on top of', 'over', 'on a' , 'sit in', 'sit on', 'lay on'],\n",
        "    'in': ['in a', 'inside', 'inside of', 'be in'],\n",
        "    'of': ['of a'],\n",
        "    'wear': ['wear a'],\n",
        "    'have': ['have a', 'have an'],\n",
        "    'beside': ['next to'],\n",
        "    'with': ['with a'],\n",
        "    'beside': ['on side of', 'by'],\n",
        "    'near': ['next to', 'around', 'beside', 'along'],\n",
        "    'in front of':['in front', 'on front of'],\n",
        "    'below': ['under'],\n",
        "    'hold': ['carry', 'holds'],\n",
        "    'stand': ['stand in', 'stand on']\n",
        "        \n",
        "\n",
        "}\n",
        "\n",
        "for key in synonyms:\n",
        "  for i in synonyms[key]:\n",
        "    data['relationship'] = data['relationship'].replace(i, key)\n",
        "\n",
        "\n",
        "#Replace similar predicates\n",
        "\n",
        "synonyms_2 = {\n",
        "    'person': ['man', 'woman', 'child', 'boy', 'girl'],\n",
        "   \n",
        "\n",
        "}\n",
        "\n",
        "for key in synonyms_2:\n",
        "  for i in synonyms_2[key]:\n",
        "    data['subject_name'] = data['subject_name'].replace(i, key)\n",
        "    data['object_name'] = data['object_name'].replace(i, key)\n",
        "    \n",
        "\n",
        "\n"
      ],
      "metadata": {
        "id": "ly10P5VKaWdQ"
      },
      "execution_count": null,
      "outputs": []
    },
    {
      "cell_type": "code",
      "source": [
        "# Check #unique values for 'objects' and 'relationships'\n",
        "\n",
        "print('Before data cleaning: ')\n",
        "print('#relationships = ', len(data['relationship'].unique()))\n",
        "\n",
        "objects = data.subject_name.append(data.object_name)\n",
        "print('#objects = ', len(objects.unique()))"
      ],
      "metadata": {
        "colab": {
          "base_uri": "https://localhost:8080/"
        },
        "id": "825QnPMgMg-6",
        "outputId": "44304652-c3e5-4e55-f497-7b39ac8f0457"
      },
      "execution_count": null,
      "outputs": [
        {
          "output_type": "stream",
          "name": "stdout",
          "text": [
            "Before data cleaning: \n",
            "#relationships =  17847\n",
            "#objects =  33403\n"
          ]
        }
      ]
    },
    {
      "cell_type": "code",
      "source": [
        "\n",
        "\n",
        "# Remove rows which contain rarely occuring features\n",
        "# Run this section twice. Otherwise low-frequence objects are still there. This happens because of sequential execution\n",
        "\n",
        "min_instances = 850\n",
        "\n",
        "\n",
        "# object should occur at least 100 times\n",
        "data = data[data['subject_name'].map(data['subject_name'].value_counts()) > min_instances]\n",
        "\n",
        "# object should occur at least 100 times\n",
        "data = data[data['object_name'].map(data['object_name'].value_counts()) > min_instances]\n",
        "\n",
        "# relationship should occur at least 100 times\n",
        "data = data[data['relationship'].map(data['relationship'].value_counts()) > min_instances]\n",
        "\n",
        "# Check #unique values for 'objects' and 'relationships'\n",
        "\n",
        "print('After data cleaning: ')\n",
        "print('#relationships = ', len(data['relationship'].unique()))\n",
        "\n",
        "objects = data.subject_name.append(data.object_name)\n",
        "print('#objects = ', len(objects.unique()))"
      ],
      "metadata": {
        "id": "rj-ivN4eMkax"
      },
      "execution_count": null,
      "outputs": []
    },
    {
      "cell_type": "code",
      "source": [
        "print(data.relationship.value_counts())\n",
        "print(data.subject_name.value_counts())\n",
        "print(data.object_name.value_counts())\n"
      ],
      "metadata": {
        "id": "Xu0iLuLBZpsE"
      },
      "execution_count": null,
      "outputs": []
    },
    {
      "cell_type": "code",
      "source": [
        "#y = data['relationship']"
      ],
      "metadata": {
        "id": "Y0wG4uO5Nktm"
      },
      "execution_count": null,
      "outputs": []
    },
    {
      "cell_type": "code",
      "source": [
        "data"
      ],
      "metadata": {
        "colab": {
          "base_uri": "https://localhost:8080/",
          "height": 505
        },
        "id": "qZ-yxXH7rj5S",
        "outputId": "29b346d8-10ce-4b44-ab93-21e6165a7be7"
      },
      "execution_count": null,
      "outputs": [
        {
          "output_type": "execute_result",
          "data": {
            "text/plain": [
              "        Unnamed: 0  Image Height  Image_Width subject_name  subject_x  \\\n",
              "1                1           600          800       person      268.0   \n",
              "3                3           600          800         sign      162.0   \n",
              "5                5           600          800       person      268.0   \n",
              "6                6           600          800     sidewalk      438.0   \n",
              "7                7           600          800          car      753.5   \n",
              "...            ...           ...          ...          ...        ...   \n",
              "175084      175084           500          333         bird      233.5   \n",
              "175085      175085           500          333         bird      233.5   \n",
              "175086      175086           500          333         bird      265.5   \n",
              "175088      175088           500          333         bird      139.0   \n",
              "175090      175090           500          333         bird      265.5   \n",
              "\n",
              "        subject_y  subject_width  subject_height object_name  object_x  \\\n",
              "1           380.0             60             262        shoe     412.0   \n",
              "3           104.0             88             182    building     110.0   \n",
              "5           380.0             60             262       shirt     270.5   \n",
              "6           464.0            722             266      street     578.0   \n",
              "7           429.0             91             174        back     754.5   \n",
              "...           ...            ...             ...         ...       ...   \n",
              "175084      190.0             39              72      branch     160.0   \n",
              "175085      190.0             39              72      branch     204.5   \n",
              "175086      261.0             29             100      branch     264.0   \n",
              "175088      411.5             56              73      branch     239.5   \n",
              "175090      261.0             29             100        tail     267.5   \n",
              "\n",
              "        object_y  object_width  object_height  Image_ID relationship  \n",
              "1          499.0            48             28         1         wear  \n",
              "3          270.0           218            536         1           on  \n",
              "5          339.5            59            101         1         have  \n",
              "6          399.5           440            233         1         near  \n",
              "7          424.0            67            170         1         have  \n",
              "...          ...           ...            ...       ...          ...  \n",
              "175084     439.5            44             55   2372684           on  \n",
              "175085     342.5           137            313   2372684           on  \n",
              "175086     266.5            20             31   2372684           on  \n",
              "175088     228.0            25             88   2372684           on  \n",
              "175090     289.0            15             30   2372684         have  \n",
              "\n",
              "[386943 rows x 15 columns]"
            ],
            "text/html": [
              "\n",
              "  <div id=\"df-83972860-70a3-4629-ad1f-154c737cc08b\">\n",
              "    <div class=\"colab-df-container\">\n",
              "      <div>\n",
              "<style scoped>\n",
              "    .dataframe tbody tr th:only-of-type {\n",
              "        vertical-align: middle;\n",
              "    }\n",
              "\n",
              "    .dataframe tbody tr th {\n",
              "        vertical-align: top;\n",
              "    }\n",
              "\n",
              "    .dataframe thead th {\n",
              "        text-align: right;\n",
              "    }\n",
              "</style>\n",
              "<table border=\"1\" class=\"dataframe\">\n",
              "  <thead>\n",
              "    <tr style=\"text-align: right;\">\n",
              "      <th></th>\n",
              "      <th>Unnamed: 0</th>\n",
              "      <th>Image Height</th>\n",
              "      <th>Image_Width</th>\n",
              "      <th>subject_name</th>\n",
              "      <th>subject_x</th>\n",
              "      <th>subject_y</th>\n",
              "      <th>subject_width</th>\n",
              "      <th>subject_height</th>\n",
              "      <th>object_name</th>\n",
              "      <th>object_x</th>\n",
              "      <th>object_y</th>\n",
              "      <th>object_width</th>\n",
              "      <th>object_height</th>\n",
              "      <th>Image_ID</th>\n",
              "      <th>relationship</th>\n",
              "    </tr>\n",
              "  </thead>\n",
              "  <tbody>\n",
              "    <tr>\n",
              "      <th>1</th>\n",
              "      <td>1</td>\n",
              "      <td>600</td>\n",
              "      <td>800</td>\n",
              "      <td>person</td>\n",
              "      <td>268.0</td>\n",
              "      <td>380.0</td>\n",
              "      <td>60</td>\n",
              "      <td>262</td>\n",
              "      <td>shoe</td>\n",
              "      <td>412.0</td>\n",
              "      <td>499.0</td>\n",
              "      <td>48</td>\n",
              "      <td>28</td>\n",
              "      <td>1</td>\n",
              "      <td>wear</td>\n",
              "    </tr>\n",
              "    <tr>\n",
              "      <th>3</th>\n",
              "      <td>3</td>\n",
              "      <td>600</td>\n",
              "      <td>800</td>\n",
              "      <td>sign</td>\n",
              "      <td>162.0</td>\n",
              "      <td>104.0</td>\n",
              "      <td>88</td>\n",
              "      <td>182</td>\n",
              "      <td>building</td>\n",
              "      <td>110.0</td>\n",
              "      <td>270.0</td>\n",
              "      <td>218</td>\n",
              "      <td>536</td>\n",
              "      <td>1</td>\n",
              "      <td>on</td>\n",
              "    </tr>\n",
              "    <tr>\n",
              "      <th>5</th>\n",
              "      <td>5</td>\n",
              "      <td>600</td>\n",
              "      <td>800</td>\n",
              "      <td>person</td>\n",
              "      <td>268.0</td>\n",
              "      <td>380.0</td>\n",
              "      <td>60</td>\n",
              "      <td>262</td>\n",
              "      <td>shirt</td>\n",
              "      <td>270.5</td>\n",
              "      <td>339.5</td>\n",
              "      <td>59</td>\n",
              "      <td>101</td>\n",
              "      <td>1</td>\n",
              "      <td>have</td>\n",
              "    </tr>\n",
              "    <tr>\n",
              "      <th>6</th>\n",
              "      <td>6</td>\n",
              "      <td>600</td>\n",
              "      <td>800</td>\n",
              "      <td>sidewalk</td>\n",
              "      <td>438.0</td>\n",
              "      <td>464.0</td>\n",
              "      <td>722</td>\n",
              "      <td>266</td>\n",
              "      <td>street</td>\n",
              "      <td>578.0</td>\n",
              "      <td>399.5</td>\n",
              "      <td>440</td>\n",
              "      <td>233</td>\n",
              "      <td>1</td>\n",
              "      <td>near</td>\n",
              "    </tr>\n",
              "    <tr>\n",
              "      <th>7</th>\n",
              "      <td>7</td>\n",
              "      <td>600</td>\n",
              "      <td>800</td>\n",
              "      <td>car</td>\n",
              "      <td>753.5</td>\n",
              "      <td>429.0</td>\n",
              "      <td>91</td>\n",
              "      <td>174</td>\n",
              "      <td>back</td>\n",
              "      <td>754.5</td>\n",
              "      <td>424.0</td>\n",
              "      <td>67</td>\n",
              "      <td>170</td>\n",
              "      <td>1</td>\n",
              "      <td>have</td>\n",
              "    </tr>\n",
              "    <tr>\n",
              "      <th>...</th>\n",
              "      <td>...</td>\n",
              "      <td>...</td>\n",
              "      <td>...</td>\n",
              "      <td>...</td>\n",
              "      <td>...</td>\n",
              "      <td>...</td>\n",
              "      <td>...</td>\n",
              "      <td>...</td>\n",
              "      <td>...</td>\n",
              "      <td>...</td>\n",
              "      <td>...</td>\n",
              "      <td>...</td>\n",
              "      <td>...</td>\n",
              "      <td>...</td>\n",
              "      <td>...</td>\n",
              "    </tr>\n",
              "    <tr>\n",
              "      <th>175084</th>\n",
              "      <td>175084</td>\n",
              "      <td>500</td>\n",
              "      <td>333</td>\n",
              "      <td>bird</td>\n",
              "      <td>233.5</td>\n",
              "      <td>190.0</td>\n",
              "      <td>39</td>\n",
              "      <td>72</td>\n",
              "      <td>branch</td>\n",
              "      <td>160.0</td>\n",
              "      <td>439.5</td>\n",
              "      <td>44</td>\n",
              "      <td>55</td>\n",
              "      <td>2372684</td>\n",
              "      <td>on</td>\n",
              "    </tr>\n",
              "    <tr>\n",
              "      <th>175085</th>\n",
              "      <td>175085</td>\n",
              "      <td>500</td>\n",
              "      <td>333</td>\n",
              "      <td>bird</td>\n",
              "      <td>233.5</td>\n",
              "      <td>190.0</td>\n",
              "      <td>39</td>\n",
              "      <td>72</td>\n",
              "      <td>branch</td>\n",
              "      <td>204.5</td>\n",
              "      <td>342.5</td>\n",
              "      <td>137</td>\n",
              "      <td>313</td>\n",
              "      <td>2372684</td>\n",
              "      <td>on</td>\n",
              "    </tr>\n",
              "    <tr>\n",
              "      <th>175086</th>\n",
              "      <td>175086</td>\n",
              "      <td>500</td>\n",
              "      <td>333</td>\n",
              "      <td>bird</td>\n",
              "      <td>265.5</td>\n",
              "      <td>261.0</td>\n",
              "      <td>29</td>\n",
              "      <td>100</td>\n",
              "      <td>branch</td>\n",
              "      <td>264.0</td>\n",
              "      <td>266.5</td>\n",
              "      <td>20</td>\n",
              "      <td>31</td>\n",
              "      <td>2372684</td>\n",
              "      <td>on</td>\n",
              "    </tr>\n",
              "    <tr>\n",
              "      <th>175088</th>\n",
              "      <td>175088</td>\n",
              "      <td>500</td>\n",
              "      <td>333</td>\n",
              "      <td>bird</td>\n",
              "      <td>139.0</td>\n",
              "      <td>411.5</td>\n",
              "      <td>56</td>\n",
              "      <td>73</td>\n",
              "      <td>branch</td>\n",
              "      <td>239.5</td>\n",
              "      <td>228.0</td>\n",
              "      <td>25</td>\n",
              "      <td>88</td>\n",
              "      <td>2372684</td>\n",
              "      <td>on</td>\n",
              "    </tr>\n",
              "    <tr>\n",
              "      <th>175090</th>\n",
              "      <td>175090</td>\n",
              "      <td>500</td>\n",
              "      <td>333</td>\n",
              "      <td>bird</td>\n",
              "      <td>265.5</td>\n",
              "      <td>261.0</td>\n",
              "      <td>29</td>\n",
              "      <td>100</td>\n",
              "      <td>tail</td>\n",
              "      <td>267.5</td>\n",
              "      <td>289.0</td>\n",
              "      <td>15</td>\n",
              "      <td>30</td>\n",
              "      <td>2372684</td>\n",
              "      <td>have</td>\n",
              "    </tr>\n",
              "  </tbody>\n",
              "</table>\n",
              "<p>386943 rows × 15 columns</p>\n",
              "</div>\n",
              "      <button class=\"colab-df-convert\" onclick=\"convertToInteractive('df-83972860-70a3-4629-ad1f-154c737cc08b')\"\n",
              "              title=\"Convert this dataframe to an interactive table.\"\n",
              "              style=\"display:none;\">\n",
              "        \n",
              "  <svg xmlns=\"http://www.w3.org/2000/svg\" height=\"24px\"viewBox=\"0 0 24 24\"\n",
              "       width=\"24px\">\n",
              "    <path d=\"M0 0h24v24H0V0z\" fill=\"none\"/>\n",
              "    <path d=\"M18.56 5.44l.94 2.06.94-2.06 2.06-.94-2.06-.94-.94-2.06-.94 2.06-2.06.94zm-11 1L8.5 8.5l.94-2.06 2.06-.94-2.06-.94L8.5 2.5l-.94 2.06-2.06.94zm10 10l.94 2.06.94-2.06 2.06-.94-2.06-.94-.94-2.06-.94 2.06-2.06.94z\"/><path d=\"M17.41 7.96l-1.37-1.37c-.4-.4-.92-.59-1.43-.59-.52 0-1.04.2-1.43.59L10.3 9.45l-7.72 7.72c-.78.78-.78 2.05 0 2.83L4 21.41c.39.39.9.59 1.41.59.51 0 1.02-.2 1.41-.59l7.78-7.78 2.81-2.81c.8-.78.8-2.07 0-2.86zM5.41 20L4 18.59l7.72-7.72 1.47 1.35L5.41 20z\"/>\n",
              "  </svg>\n",
              "      </button>\n",
              "      \n",
              "  <style>\n",
              "    .colab-df-container {\n",
              "      display:flex;\n",
              "      flex-wrap:wrap;\n",
              "      gap: 12px;\n",
              "    }\n",
              "\n",
              "    .colab-df-convert {\n",
              "      background-color: #E8F0FE;\n",
              "      border: none;\n",
              "      border-radius: 50%;\n",
              "      cursor: pointer;\n",
              "      display: none;\n",
              "      fill: #1967D2;\n",
              "      height: 32px;\n",
              "      padding: 0 0 0 0;\n",
              "      width: 32px;\n",
              "    }\n",
              "\n",
              "    .colab-df-convert:hover {\n",
              "      background-color: #E2EBFA;\n",
              "      box-shadow: 0px 1px 2px rgba(60, 64, 67, 0.3), 0px 1px 3px 1px rgba(60, 64, 67, 0.15);\n",
              "      fill: #174EA6;\n",
              "    }\n",
              "\n",
              "    [theme=dark] .colab-df-convert {\n",
              "      background-color: #3B4455;\n",
              "      fill: #D2E3FC;\n",
              "    }\n",
              "\n",
              "    [theme=dark] .colab-df-convert:hover {\n",
              "      background-color: #434B5C;\n",
              "      box-shadow: 0px 1px 3px 1px rgba(0, 0, 0, 0.15);\n",
              "      filter: drop-shadow(0px 1px 2px rgba(0, 0, 0, 0.3));\n",
              "      fill: #FFFFFF;\n",
              "    }\n",
              "  </style>\n",
              "\n",
              "      <script>\n",
              "        const buttonEl =\n",
              "          document.querySelector('#df-83972860-70a3-4629-ad1f-154c737cc08b button.colab-df-convert');\n",
              "        buttonEl.style.display =\n",
              "          google.colab.kernel.accessAllowed ? 'block' : 'none';\n",
              "\n",
              "        async function convertToInteractive(key) {\n",
              "          const element = document.querySelector('#df-83972860-70a3-4629-ad1f-154c737cc08b');\n",
              "          const dataTable =\n",
              "            await google.colab.kernel.invokeFunction('convertToInteractive',\n",
              "                                                     [key], {});\n",
              "          if (!dataTable) return;\n",
              "\n",
              "          const docLinkHtml = 'Like what you see? Visit the ' +\n",
              "            '<a target=\"_blank\" href=https://colab.research.google.com/notebooks/data_table.ipynb>data table notebook</a>'\n",
              "            + ' to learn more about interactive tables.';\n",
              "          element.innerHTML = '';\n",
              "          dataTable['output_type'] = 'display_data';\n",
              "          await google.colab.output.renderOutput(dataTable, element);\n",
              "          const docLink = document.createElement('div');\n",
              "          docLink.innerHTML = docLinkHtml;\n",
              "          element.appendChild(docLink);\n",
              "        }\n",
              "      </script>\n",
              "    </div>\n",
              "  </div>\n",
              "  "
            ]
          },
          "metadata": {},
          "execution_count": 65
        }
      ]
    },
    {
      "cell_type": "code",
      "source": [
        "# Data Preprocessing\n",
        "X = pd.DataFrame()\n",
        "X['rel_x'] = (data['subject_x'] - data['object_x'])/data['Image_Width']\n",
        "X['rel_y'] = (data['subject_y'] - data['object_y'])/data['Image Height']\n",
        "X['rel_w'] = np.log2(data['subject_width']/data['object_width'])\n",
        "X['rel_h'] = np.log2(data['subject_height']/data['object_height'])\n",
        "X['subject_name'] = data['subject_name']\n",
        "X['object_name'] = data['object_name']\n",
        "\n",
        "y = data['relationship']"
      ],
      "metadata": {
        "id": "UD3a-SYIc6Oj"
      },
      "execution_count": null,
      "outputs": []
    },
    {
      "cell_type": "markdown",
      "source": [
        "## Exploratory Data Analysis"
      ],
      "metadata": {
        "id": "857WrPCiBBoC"
      }
    },
    {
      "cell_type": "code",
      "source": [
        "hist = y.value_counts()\n",
        "import matplotlib.pyplot as plt\n",
        "plt.figure(figsize=(10, 10))\n",
        "plt.xticks(rotation=45)\n",
        "plt.bar(hist.index, hist)\n",
        "plt.ylabel('Number of instances')\n",
        "plt.xlabel('Relationship')"
      ],
      "metadata": {
        "colab": {
          "base_uri": "https://localhost:8080/",
          "height": 654
        },
        "id": "OUp1BIYqf14v",
        "outputId": "4f142103-1b83-459f-927f-e51626982d32"
      },
      "execution_count": null,
      "outputs": [
        {
          "output_type": "execute_result",
          "data": {
            "text/plain": [
              "Text(0.5, 0, 'Relationship')"
            ]
          },
          "metadata": {},
          "execution_count": 29
        },
        {
          "output_type": "display_data",
          "data": {
            "text/plain": [
              "<Figure size 720x720 with 1 Axes>"
            ],
            "image/png": "[encoded data removed]"
          },
          "metadata": {
            "needs_background": "light"
          }
        }
      ]
    },
    {
      "cell_type": "code",
      "source": [
        "# Normalization - Scaling width and height columns\n",
        "\n",
        "min_w = X['rel_w'].min()\n",
        "max_w =  X['rel_w'].max()\n",
        "\n",
        "X['rel_w'] = (((X['rel_w'] - min_w) / (max_w - min_w)) * 2) - 1\n",
        "\n",
        "min_h = X['rel_h'].min()\n",
        "max_h=  X['rel_h'].max()\n",
        "\n",
        "X['rel_h'] = (((X['rel_h'] - min_h) / (max_h - min_h)) * 2) - 1"
      ],
      "metadata": {
        "id": "5nWfEcXNdFc_"
      },
      "execution_count": null,
      "outputs": []
    },
    {
      "cell_type": "code",
      "source": [
        ""
      ],
      "metadata": {
        "id": "xMYTq2bW7FzB"
      },
      "execution_count": null,
      "outputs": []
    },
    {
      "cell_type": "code",
      "source": [
        "# One-hot encoding\n",
        "categorical_cols = ['subject_name', 'object_name']\n",
        "X = pd.get_dummies(X, columns = categorical_cols)"
      ],
      "metadata": {
        "id": "sTYOIyj67F1t"
      },
      "execution_count": null,
      "outputs": []
    },
    {
      "cell_type": "code",
      "source": [
        ""
      ],
      "metadata": {
        "id": "0QfRC2zc3RCB"
      },
      "execution_count": null,
      "outputs": []
    },
    {
      "cell_type": "markdown",
      "source": [
        "## Remove data imbalance"
      ],
      "metadata": {
        "id": "KWZM22Jz55ka"
      }
    },
    {
      "cell_type": "code",
      "source": [
        "#Undersampling\n",
        "from imblearn.under_sampling import RandomUnderSampler\n",
        "rus = RandomUnderSampler(random_state=0)\n",
        "X, y = rus.fit_resample(X, y)"
      ],
      "metadata": {
        "id": "UId4cHondqXW"
      },
      "execution_count": null,
      "outputs": []
    },
    {
      "cell_type": "code",
      "source": [
        "hist = y.value_counts()\n",
        "import matplotlib.pyplot as plt\n",
        "plt.figure(figsize=(10, 10))\n",
        "plt.xticks(rotation=60)\n",
        "plt.bar(hist.index, hist)"
      ],
      "metadata": {
        "colab": {
          "base_uri": "https://localhost:8080/",
          "height": 646
        },
        "id": "7_dPw83OeaNV",
        "outputId": "7cef09a9-33bc-4805-d952-2e372b41bb34"
      },
      "execution_count": null,
      "outputs": [
        {
          "output_type": "execute_result",
          "data": {
            "text/plain": [
              "<BarContainer object of 21 artists>"
            ]
          },
          "metadata": {},
          "execution_count": 33
        },
        {
          "output_type": "display_data",
          "data": {
            "text/plain": [
              "<Figure size 720x720 with 1 Axes>"
            ],
            "image/png": "[encoded data removed]"
          },
          "metadata": {
            "needs_background": "light"
          }
        }
      ]
    },
    {
      "cell_type": "code",
      "source": [
        "len(X), len(y)"
      ],
      "metadata": {
        "colab": {
          "base_uri": "https://localhost:8080/"
        },
        "id": "UHFJujwVeiU1",
        "outputId": "343f32b8-1af9-47b3-c1c1-992bcc04b15c"
      },
      "execution_count": null,
      "outputs": [
        {
          "output_type": "execute_result",
          "data": {
            "text/plain": [
              "(17829, 17829)"
            ]
          },
          "metadata": {},
          "execution_count": 49
        }
      ]
    },
    {
      "cell_type": "markdown",
      "source": [
        "## Neural network training"
      ],
      "metadata": {
        "id": "AfT4VvHa6gRV"
      }
    },
    {
      "cell_type": "code",
      "source": [
        "y_one_hot = pd.get_dummies(y)\n"
      ],
      "metadata": {
        "id": "e19oaVxfuuUq"
      },
      "execution_count": null,
      "outputs": []
    },
    {
      "cell_type": "code",
      "source": [
        "# Import train_test_split function\n",
        "from sklearn.model_selection import train_test_split\n",
        "\n",
        "# Split dataset into training set and test set\n",
        "X_train, X_test, y_train, y_test = train_test_split(X, y_one_hot, test_size=0.3,random_state=109) # 70% training and 30% test\n",
        "X_train, X_val, y_train, y_val = train_test_split(X_train, y_train, test_size=0.3,random_state=109) # 70% val and 30% train\n"
      ],
      "metadata": {
        "id": "f44tbRbeuv_6"
      },
      "execution_count": null,
      "outputs": []
    },
    {
      "cell_type": "code",
      "source": [
        "len(X.columns)"
      ],
      "metadata": {
        "colab": {
          "base_uri": "https://localhost:8080/"
        },
        "id": "Z05OkDpyzGOw",
        "outputId": "404af76b-b051-49c0-f512-525c0e189410"
      },
      "execution_count": null,
      "outputs": [
        {
          "output_type": "execute_result",
          "data": {
            "text/plain": [
              "326"
            ]
          },
          "metadata": {},
          "execution_count": 41
        }
      ]
    },
    {
      "cell_type": "code",
      "source": [
        "\n",
        "\n",
        "from keras.models import Sequential\n",
        "from keras.layers import Dense\n",
        "from keras.wrappers.scikit_learn import KerasClassifier\n",
        "from keras.utils import np_utils\n",
        "from sklearn.model_selection import cross_val_score \n",
        "from sklearn.model_selection import KFold\n",
        "from sklearn.preprocessing import LabelEncoder\n",
        "from sklearn.pipeline import Pipeline\n",
        "from keras.callbacks import EarlyStopping\n",
        "#from tf.keras import losses\n",
        "import tensorflow as tf\n",
        "\n",
        "# define baseline model\n",
        "def baseline_model():\n",
        "\t# create model\n",
        "  model = Sequential()\n",
        "  model.add(Dense(100, input_dim = len(X.columns) , activation='relu'))\n",
        "  model.add(Dense(len(y_train.columns), activation='sigmoid'))\n",
        "  # Compile model\n",
        "  model.compile(loss=tf.keras.losses.BinaryCrossentropy(from_logits=False), optimizer='adam', metrics=['accuracy'])\n",
        "  return model\n",
        "\t\n",
        " \n",
        "\n",
        "# simple early stopping\n",
        "es = EarlyStopping(monitor='val_loss', mode='min', verbose=1, patience=10)\n",
        "model = baseline_model()\n",
        "history = model.fit(\n",
        "    X_train,\n",
        "    y_train,\n",
        "    batch_size=16,\n",
        "    epochs=50,\n",
        "    # We pass some validation for\n",
        "    # monitoring validation loss and metrics\n",
        "    # at the end of each epoch\n",
        "    validation_data=(X_val, y_val),\n",
        "    #callbacks=[es]\n",
        ")"
      ],
      "metadata": {
        "id": "we3-o4v5vC5R"
      },
      "execution_count": null,
      "outputs": []
    },
    {
      "cell_type": "code",
      "source": [
        "model.summary()"
      ],
      "metadata": {
        "colab": {
          "base_uri": "https://localhost:8080/"
        },
        "id": "OFvLMlgo1NcU",
        "outputId": "2171a9a0-d8b8-4391-f462-8083a8b798f6"
      },
      "execution_count": null,
      "outputs": [
        {
          "output_type": "stream",
          "name": "stdout",
          "text": [
            "Model: \"sequential_1\"\n",
            "_________________________________________________________________\n",
            " Layer (type)                Output Shape              Param #   \n",
            "=================================================================\n",
            " dense_2 (Dense)             (None, 100)               32700     \n",
            "                                                                 \n",
            " dense_3 (Dense)             (None, 21)                2121      \n",
            "                                                                 \n",
            "=================================================================\n",
            "Total params: 34,821\n",
            "Trainable params: 34,821\n",
            "Non-trainable params: 0\n",
            "_________________________________________________________________\n"
          ]
        }
      ]
    },
    {
      "cell_type": "code",
      "source": [
        "# summarize history for accuracy\n",
        "import matplotlib.pyplot as plt\n",
        "\n",
        "plt.plot(history.history['accuracy'])\n",
        "plt.plot(history.history['val_accuracy'])\n",
        "plt.title('model accuracy')\n",
        "plt.ylabel('accuracy')\n",
        "plt.xlabel('epoch')\n",
        "plt.legend(['train', 'val'], loc='upper left')\n",
        "plt.show()\n",
        "# summarize history for loss\n",
        "plt.plot(history.history['loss'])\n",
        "plt.plot(history.history['val_loss'])\n",
        "plt.title('model loss')\n",
        "plt.ylabel('loss')\n",
        "plt.xlabel('epoch')\n",
        "plt.legend(['train', 'val'], loc='upper left')\n",
        "plt.show()"
      ],
      "metadata": {
        "id": "GPX2RPFFvFgX"
      },
      "execution_count": null,
      "outputs": []
    },
    {
      "cell_type": "code",
      "source": [
        "model.save(\"model.h5\")"
      ],
      "metadata": {
        "id": "1ATEckJl-UQ0"
      },
      "execution_count": null,
      "outputs": []
    },
    {
      "cell_type": "code",
      "source": [
        ""
      ],
      "metadata": {
        "id": "KFH0ai6xC9VF"
      },
      "execution_count": null,
      "outputs": []
    },
    {
      "cell_type": "markdown",
      "source": [
        "## Evaluation on test data"
      ],
      "metadata": {
        "id": "9v-_C_I7C9hG"
      }
    },
    {
      "cell_type": "code",
      "source": [
        "# Evaluate the model on the test data using `evaluate`\n",
        "print(\"Evaluate on test data\")\n",
        "results = model.evaluate(X_test, y_test, batch_size=128)\n",
        "print(\"test loss, test acc:\", results)"
      ],
      "metadata": {
        "id": "4ZRl6dEtv6cT"
      },
      "execution_count": null,
      "outputs": []
    },
    {
      "cell_type": "code",
      "source": [
        "import numpy as np\n",
        "# predict probabilities for test set\n",
        "yhat_probs = model.predict(X_test)\n",
        "# predict crisp classes for test set\n",
        "yhat_classes = np.argmax(yhat_probs[0])\n"
      ],
      "metadata": {
        "id": "8cf5kaeHwDZ_"
      },
      "execution_count": null,
      "outputs": []
    },
    {
      "cell_type": "code",
      "source": [
        "y_pred = []\n",
        "for i in yhat_probs:\n",
        "  y_pred.append(np.argmax(i))"
      ],
      "metadata": {
        "id": "E_aFYb2kwO3X"
      },
      "execution_count": null,
      "outputs": []
    },
    {
      "cell_type": "code",
      "source": [
        "y_one_hot_test = pd.get_dummies(y_test)"
      ],
      "metadata": {
        "id": "RznPySjvkMhN"
      },
      "execution_count": null,
      "outputs": []
    },
    {
      "cell_type": "code",
      "source": [
        "y_t = []\n",
        "for i in range(len(y_one_hot_test)):\n",
        "  y_t.append(np.argmax(y_test.iloc[i]))"
      ],
      "metadata": {
        "id": "xKBUOR15wT1H"
      },
      "execution_count": null,
      "outputs": []
    },
    {
      "cell_type": "code",
      "source": [
        "#Import scikit-learn metrics module for accuracy calculation\n",
        "from sklearn.metrics import accuracy_score, f1_score, precision_score, recall_score\n",
        "\n",
        "# Model Accuracy: how often is the classifier correct?\n",
        "print(\"Accuracy:\",accuracy_score(y_t, y_pred))\n",
        "print(\"Precision: \", precision_score(y_t, y_pred, average=\"macro\"))\n",
        "print(\"Recall: \",recall_score(y_t, y_pred, average=\"macro\"))\n",
        "print(\"F1 score: \",f1_score(y_t, y_pred, average=\"macro\"))\n"
      ],
      "metadata": {
        "id": "wvry9ERywh6t"
      },
      "execution_count": null,
      "outputs": []
    },
    {
      "cell_type": "code",
      "source": [
        ""
      ],
      "metadata": {
        "id": "2_Y4cpCsw2T3"
      },
      "execution_count": null,
      "outputs": []
    }
  ]
}